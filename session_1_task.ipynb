{
 "cells": [
  {
   "cell_type": "markdown",
   "id": "f11e57fe",
   "metadata": {},
   "source": [
    "Q.1 Write a program that will convert celsius value to fahrenheit"
   ]
  },
  {
   "cell_type": "code",
   "execution_count": 1,
   "id": "d2f7b1c7",
   "metadata": {},
   "outputs": [
    {
     "name": "stdout",
     "output_type": "stream",
     "text": [
      "1.0°C is equal to 33.8°F\n"
     ]
    }
   ],
   "source": [
    "celsius = float(input(\"Enter temperature in Celsius: \"))\n",
    "fahrenheit = (celsius * 9/5) + 32\n",
    "print(f\"{celsius}°C is equal to {fahrenheit}°F\")\n"
   ]
  },
  {
   "cell_type": "markdown",
   "id": "04b051fe",
   "metadata": {},
   "source": [
    "Q3:- Take 2 numbers as input from the user.Write a program to swap the numbers without using any special python syntax."
   ]
  },
  {
   "cell_type": "code",
   "execution_count": 2,
   "id": "4a6c4d4a",
   "metadata": {},
   "outputs": [
    {
     "name": "stdout",
     "output_type": "stream",
     "text": [
      "After swapping:\n",
      "First number: 2\n",
      "Second number: 5\n"
     ]
    }
   ],
   "source": [
    "a = int(input(\"Enter first number: \"))\n",
    "b = int(input(\"Enter second number: \"))\n",
    "temp = a\n",
    "a = b\n",
    "b = temp\n",
    "print(\"After swapping:\")\n",
    "print(\"First number:\", a)\n",
    "print(\"Second number:\", b)\n"
   ]
  },
  {
   "cell_type": "markdown",
   "id": "d13ab94d",
   "metadata": {},
   "source": [
    "Q4:- Write a program to find the euclidean distance between two coordinates.Take both the coordinates from the user as input"
   ]
  },
  {
   "cell_type": "code",
   "execution_count": 3,
   "id": "b23d5a76",
   "metadata": {},
   "outputs": [
    {
     "name": "stdout",
     "output_type": "stream",
     "text": [
      "Euclidean distance: 2.23606797749979\n"
     ]
    }
   ],
   "source": [
    "import math\n",
    "x1 = float(input(\"Enter x1: \"))\n",
    "y1 = float(input(\"Enter y1: \"))\n",
    "x2 = float(input(\"Enter x2: \"))\n",
    "y2 = float(input(\"Enter y2: \"))\n",
    "distance = math.sqrt((x2 - x1)**2 + (y2 - y1)**2)\n",
    "print(\"Euclidean distance:\", distance)\n"
   ]
  },
  {
   "cell_type": "markdown",
   "id": "0abee5b0",
   "metadata": {},
   "source": [
    "Q5:- Write a program to find the simple interest when the value of principle,rate of interest and time period is provided by the user.\n"
   ]
  },
  {
   "cell_type": "code",
   "execution_count": 4,
   "id": "ae78a2d6",
   "metadata": {},
   "outputs": [
    {
     "name": "stdout",
     "output_type": "stream",
     "text": [
      "Simple Interest: 1.2\n"
     ]
    }
   ],
   "source": [
    "p = float(input(\"Enter principal amount: \"))\n",
    "r = float(input(\"Enter rate of interest: \"))\n",
    "t = float(input(\"Enter time period in years: \"))\n",
    "si = (p * r * t) / 100\n",
    "print(\"Simple Interest:\", si)"
   ]
  },
  {
   "cell_type": "markdown",
   "id": "1c95a62f",
   "metadata": {},
   "source": [
    "Q6:- Write a program that will tell the number of dogs and chicken are there when the user will provide the value of total heads and legs.\n",
    "\n",
    "For example:\n",
    "Input:\n",
    "heads -> 4\n",
    "legs -> 12\n",
    "<br>\n",
    "Output:\n",
    "dogs -> 2\n",
    "chicken -> 2\n"
   ]
  },
  {
   "cell_type": "code",
   "execution_count": 6,
   "id": "755501a7",
   "metadata": {},
   "outputs": [
    {
     "name": "stdout",
     "output_type": "stream",
     "text": [
      "dogs -> 1\n",
      "chicken -> 0\n"
     ]
    }
   ],
   "source": [
    "heads = int(input(\"Enter number of heads: \"))\n",
    "legs = int(input(\"Enter number of legs: \"))\n",
    "chickens = (4 * heads - legs) // 2\n",
    "dogs = heads - chickens\n",
    "print(\"dogs ->\", dogs)\n",
    "print(\"chicken ->\", chickens)"
   ]
  },
  {
   "cell_type": "markdown",
   "id": "0b07d22e",
   "metadata": {},
   "source": [
    "Q7:- Write a program to find the sum of squares of first n natural numbers where n will be provided by the user."
   ]
  },
  {
   "cell_type": "code",
   "execution_count": 7,
   "id": "a7f6c453",
   "metadata": {},
   "outputs": [
    {
     "name": "stdout",
     "output_type": "stream",
     "text": [
      "Sum of squares: 55\n"
     ]
    }
   ],
   "source": [
    "n = int(input(\"Enter a number: \"))\n",
    "sum_squares = n * (n + 1) * (2 * n + 1) // 6\n",
    "print(\"Sum of squares:\", sum_squares)"
   ]
  },
  {
   "cell_type": "markdown",
   "id": "3bb11e5b",
   "metadata": {},
   "source": [
    "Q8:- Given the first 2 terms of an Arithmetic Series.Find the Nth term of the series. Assume all inputs are provided by the user"
   ]
  },
  {
   "cell_type": "code",
   "execution_count": 8,
   "id": "0ffdd9df",
   "metadata": {},
   "outputs": [
    {
     "name": "stdout",
     "output_type": "stream",
     "text": [
      "Nth term: 9\n"
     ]
    }
   ],
   "source": [
    "a1 = int(input(\"Enter first term: \"))\n",
    "a2 = int(input(\"Enter second term: \"))\n",
    "n = int(input(\"Enter term number to find: \"))\n",
    "d = a2 - a1\n",
    "an = a1 + (n - 1) * d\n",
    "print(\"Nth term:\", an)"
   ]
  },
  {
   "cell_type": "markdown",
   "id": "84711a7b",
   "metadata": {},
   "source": [
    "Q9:- Given 2 fractions, find the sum of those 2 fractions.Take the numerator and denominator values of the fractions from the user"
   ]
  },
  {
   "cell_type": "code",
   "execution_count": 9,
   "id": "3bc2bdae",
   "metadata": {},
   "outputs": [
    {
     "name": "stdout",
     "output_type": "stream",
     "text": [
      "Sum of fractions: 9300 / 5400\n"
     ]
    }
   ],
   "source": [
    "n1 = int(input(\"Enter numerator of first fraction: \"))\n",
    "d1 = int(input(\"Enter denominator of first fraction: \"))\n",
    "n2 = int(input(\"Enter numerator of second fraction: \"))\n",
    "d2 = int(input(\"Enter denominator of second fraction: \"))\n",
    "numerator = n1 * d2 + n2 * d1\n",
    "denominator = d1 * d2\n",
    "print(\"Sum of fractions:\", numerator, \"/\", denominator)"
   ]
  },
  {
   "cell_type": "markdown",
   "id": "6d39a645",
   "metadata": {},
   "source": [
    "Q10:- Given the height, width and breadth of a milk tank, you have to find out how many glasses of milk can be obtained? Assume all the inputs are provided by the user.\n",
    "\n",
    "\n",
    "\n",
    "Input:<br>\n",
    "Dimensions of the milk tank<br>\n",
    "H = 20cm, L = 20cm, B = 20cm\n",
    "<br><br>\n",
    "Dimensions of the glass<br>\n",
    "h = 3cm, r = 1cm"
   ]
  },
  {
   "cell_type": "code",
   "execution_count": 11,
   "id": "0733f4b7",
   "metadata": {},
   "outputs": [
    {
     "name": "stdout",
     "output_type": "stream",
     "text": [
      "Number of glasses of milk: 0\n"
     ]
    }
   ],
   "source": [
    "import math\n",
    "H = float(input(\"Enter height of tank (cm): \"))\n",
    "L = float(input(\"Enter length of tank (cm): \"))\n",
    "B = float(input(\"Enter breadth of tank (cm): \"))\n",
    "h = float(input(\"Enter height of glass (cm): \"))\n",
    "r = float(input(\"Enter radius of glass (cm): \"))\n",
    "tank_volume = H * L * B\n",
    "glass_volume = math.pi * r * r * h\n",
    "num_glasses = int(tank_volume // glass_volume)\n",
    "print(\"Number of glasses of milk:\", num_glasses)"
   ]
  },
  {
   "cell_type": "code",
   "execution_count": null,
   "id": "047a7610",
   "metadata": {},
   "outputs": [],
   "source": []
  }
 ],
 "metadata": {
  "kernelspec": {
   "display_name": "Python 3",
   "language": "python",
   "name": "python3"
  },
  "language_info": {
   "codemirror_mode": {
    "name": "ipython",
    "version": 3
   },
   "file_extension": ".py",
   "mimetype": "text/x-python",
   "name": "python",
   "nbconvert_exporter": "python",
   "pygments_lexer": "ipython3",
   "version": "3.11.9"
  }
 },
 "nbformat": 4,
 "nbformat_minor": 5
}
