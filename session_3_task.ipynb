{
 "cells": [
  {
   "cell_type": "markdown",
   "id": "cdbea805",
   "metadata": {},
   "source": [
    "0.0.1\n",
    "Problem 1\n",
    "- Print the following pattern. Write a program to use for loop to\n",
    "print the following reverse number pattern.\n",
    "5 4 3 2 1\n",
    "4 3 2 1\n",
    "3 2 1\n",
    "2 1\n",
    "1"
   ]
  },
  {
   "cell_type": "code",
   "execution_count": 1,
   "id": "6e119dff",
   "metadata": {},
   "outputs": [
    {
     "name": "stdout",
     "output_type": "stream",
     "text": [
      "5 4 3 2 1 \n",
      "4 3 2 1 \n",
      "3 2 1 \n",
      "2 1 \n",
      "1 \n"
     ]
    }
   ],
   "source": [
    "for i in range(5, 0, -1):\n",
    "    for j in range(i, 0, -1):\n",
    "        print(j, end=' ')\n",
    "    print()"
   ]
  },
  {
   "cell_type": "markdown",
   "id": "1e5b1ec2",
   "metadata": {},
   "source": [
    "0.0.2 Problem 2: Print the following pattern.\n",
    "*\n",
    "* *\n",
    "* * *\n",
    "* * * *\n",
    "* * * * *\n",
    "* * * *\n",
    "* * *\n",
    "* *\n",
    "*"
   ]
  },
  {
   "cell_type": "code",
   "execution_count": 2,
   "id": "87f09d0f",
   "metadata": {},
   "outputs": [
    {
     "name": "stdout",
     "output_type": "stream",
     "text": [
      "* \n",
      "* * \n",
      "* * * \n",
      "* * * * \n",
      "* * * * * \n",
      "* * * * \n",
      "* * * \n",
      "* * \n",
      "* \n"
     ]
    }
   ],
   "source": [
    "for i in range(1, 6):\n",
    "    print('* ' * i)\n",
    "for i in range(4, 0, -1):\n",
    "    print('* ' * i)"
   ]
  },
  {
   "cell_type": "markdown",
   "id": "39773668",
   "metadata": {},
   "source": [
    "0.0.3 Problem 3:Write a program to pring the following pattern\n",
    "   *\n",
    " * * *\n",
    "* * * * *"
   ]
  },
  {
   "cell_type": "code",
   "execution_count": null,
   "id": "bb1dd3fc",
   "metadata": {},
   "outputs": [
    {
     "name": "stdout",
     "output_type": "stream",
     "text": [
      "  * \n",
      " * * \n",
      "* * * \n"
     ]
    }
   ],
   "source": [
    "rows = 3\n",
    "for i in range(rows):\n",
    "    spaces = rows - i - 1\n",
    "    stars = 2 * i + 1\n",
    "    print(' ' * spaces + '* ' * (i + 1))"
   ]
  },
  {
   "cell_type": "markdown",
   "id": "978f5d0f",
   "metadata": {},
   "source": [
    "0.0.4 Problem 4:Write a program to print the following pattern\n"
   ]
  },
  {
   "cell_type": "code",
   "execution_count": 5,
   "id": "1b04e5e1",
   "metadata": {},
   "outputs": [
    {
     "name": "stdout",
     "output_type": "stream",
     "text": [
      "1 \n",
      "2 1 \n",
      "3 2 1 \n",
      "4 3 2 1 \n",
      "5 4 3 2 1 \n"
     ]
    }
   ],
   "source": [
    "for i in range(1, 6):\n",
    "    for j in range(i, 0, -1):\n",
    "        print(j, end=' ')\n",
    "    print()\n"
   ]
  },
  {
   "cell_type": "markdown",
   "id": "0de050a4",
   "metadata": {},
   "source": [
    "0.0.5 Problem 5: Write a Python Program to Find the Sum of the Series till the nth\n",
    "term:\n",
    "1 + x^2/2 + x^3/3 + … x^n/n n will be provided by the user\n"
   ]
  },
  {
   "cell_type": "code",
   "execution_count": 6,
   "id": "f42318d8",
   "metadata": {},
   "outputs": [
    {
     "name": "stdout",
     "output_type": "stream",
     "text": [
      "Sum of the series: 211.41666666666666\n"
     ]
    }
   ],
   "source": [
    "x = int(input(\"Enter the value of x: \"))\n",
    "n = int(input(\"Enter the number of terms (n): \"))\n",
    "total = 1  # starting from 1 as per the series\n",
    "for i in range(2, n + 1):\n",
    "    total += (x ** i) / i\n",
    "print(\"Sum of the series:\", total)"
   ]
  },
  {
   "cell_type": "markdown",
   "id": "d690106f",
   "metadata": {},
   "source": [
    "0.0.6 Problem 6: The natural logarithm can be approximated by the following series.\n",
    "If x is input through the keyboard, write a program to calculate the sum of the first seven terms\n",
    "of this series."
   ]
  },
  {
   "cell_type": "code",
   "execution_count": 7,
   "id": "5ac1b4e9",
   "metadata": {},
   "outputs": [
    {
     "name": "stdout",
     "output_type": "stream",
     "text": [
      "Approximation of ln(x): 1816.0380952380951\n"
     ]
    }
   ],
   "source": [
    "x = float(input(\"Enter the value of x (0 < x <= 2): \"))\n",
    "terms = 7\n",
    "result = 0\n",
    "for i in range(1, terms + 1):\n",
    "    term = ((-1) ** (i + 1)) * ((x - 1) ** i) / i\n",
    "    result += term\n",
    "print(\"Approximation of ln(x):\", result)"
   ]
  },
  {
   "cell_type": "markdown",
   "id": "10e14a3c",
   "metadata": {},
   "source": [
    "0.0.7 Problem 7 - Find the sum of the series upto n terms.\n",
    "Write a program to calculate the sum of series up to n term. For example, if n =5 the series will\n",
    "become 2 + 22 + 222 + 2222 + 22222 = 24690. Take the user input and then calculate. And the\n",
    "output style should match which is given in the example.\n",
    "Example 1:\n",
    "Input:\n",
    "5\n",
    "Output:\n",
    "2+22+222+2222+22222\n",
    "Sum of above series is: 24690\n"
   ]
  },
  {
   "cell_type": "code",
   "execution_count": 8,
   "id": "6f56eec1",
   "metadata": {},
   "outputs": [
    {
     "name": "stdout",
     "output_type": "stream",
     "text": [
      "2+22+222+2222+22222\n",
      "Sum of above series is: 24690\n"
     ]
    }
   ],
   "source": [
    "n = int(input(\"Enter number of terms: \"))\n",
    "term = ''\n",
    "total = 0\n",
    "for i in range(1, n + 1):\n",
    "    term += '2'\n",
    "    print(term, end='+' if i != n else '\\n')\n",
    "    total += int(term)\n",
    "print(\"Sum of above series is:\", total)"
   ]
  },
  {
   "cell_type": "markdown",
   "id": "da3ea039",
   "metadata": {},
   "source": [
    "###Problem 8: Write a program to print all the unique combinations of 1,2,3 and 4\n"
   ]
  },
  {
   "cell_type": "code",
   "execution_count": 9,
   "id": "9029aecb",
   "metadata": {},
   "outputs": [
    {
     "name": "stdout",
     "output_type": "stream",
     "text": [
      "1 2 3 4\n",
      "1 2 4 3\n",
      "1 3 2 4\n",
      "1 3 4 2\n",
      "1 4 2 3\n",
      "1 4 3 2\n",
      "2 1 3 4\n",
      "2 1 4 3\n",
      "2 3 1 4\n",
      "2 3 4 1\n",
      "2 4 1 3\n",
      "2 4 3 1\n",
      "3 1 2 4\n",
      "3 1 4 2\n",
      "3 2 1 4\n",
      "3 2 4 1\n",
      "3 4 1 2\n",
      "3 4 2 1\n",
      "4 1 2 3\n",
      "4 1 3 2\n",
      "4 2 1 3\n",
      "4 2 3 1\n",
      "4 3 1 2\n",
      "4 3 2 1\n"
     ]
    }
   ],
   "source": [
    "import itertools\n",
    "\n",
    "nums = [1, 2, 3, 4]\n",
    "perms = itertools.permutations(nums)\n",
    "\n",
    "for p in perms:\n",
    "    print(' '.join(map(str, p)))"
   ]
  },
  {
   "cell_type": "markdown",
   "id": "dff36f31",
   "metadata": {},
   "source": [
    "###Problem 9: Write a program that will take a decimal number as input and prints out the\n",
    "binary equivalent of the number"
   ]
  },
  {
   "cell_type": "code",
   "execution_count": 10,
   "id": "48432c12",
   "metadata": {},
   "outputs": [
    {
     "name": "stdout",
     "output_type": "stream",
     "text": [
      "Binary equivalent: 100\n"
     ]
    }
   ],
   "source": [
    "decimal = int(input(\"Enter a decimal number: \"))\n",
    "binary = bin(decimal)[2:]\n",
    "print(\"Binary equivalent:\", binary)"
   ]
  },
  {
   "cell_type": "markdown",
   "id": "9caf5ad2",
   "metadata": {},
   "source": [
    "###Problem 10: Write a program that will take 2 numbers as input and prints the LCM and\n",
    "HCF of those 2 numbers"
   ]
  },
  {
   "cell_type": "code",
   "execution_count": 11,
   "id": "7df21b40",
   "metadata": {},
   "outputs": [
    {
     "name": "stdout",
     "output_type": "stream",
     "text": [
      "HCF: 1\n",
      "LCM: 20\n"
     ]
    }
   ],
   "source": [
    "import math\n",
    "\n",
    "a = int(input(\"Enter first number: \"))\n",
    "b = int(input(\"Enter second number: \"))\n",
    "\n",
    "hcf = math.gcd(a, b)\n",
    "lcm = abs(a * b) // hcf\n",
    "\n",
    "print(\"HCF:\", hcf)\n",
    "print(\"LCM:\", lcm)"
   ]
  },
  {
   "cell_type": "markdown",
   "id": "4fd7dcd5",
   "metadata": {},
   "source": [
    "0.0.8 Problem 11: Create Short Form from initial character\n",
    "Given a string create short form ofthe string from Initial character. Short form should be capitalised.\n",
    "Example:\n",
    "Input:\n",
    "Data science mentorship program\n",
    "Output:\n",
    "DSMP"
   ]
  },
  {
   "cell_type": "code",
   "execution_count": 12,
   "id": "d8956ad5",
   "metadata": {},
   "outputs": [
    {
     "name": "stdout",
     "output_type": "stream",
     "text": [
      "Short form: 5\n"
     ]
    }
   ],
   "source": [
    "text = input(\"Enter a string: \")\n",
    "words = text.split()\n",
    "short_form = ''.join([word[0].upper() for word in words])\n",
    "print(\"Short form:\", short_form)"
   ]
  },
  {
   "cell_type": "markdown",
   "id": "9499cafc",
   "metadata": {},
   "source": [
    "###Problem 12: Append second string in the middle of first string\n",
    "Input:\n",
    "campusx\n",
    "data\n",
    "Output:\n",
    "camdatapusx"
   ]
  },
  {
   "cell_type": "code",
   "execution_count": 13,
   "id": "fdc05930",
   "metadata": {},
   "outputs": [
    {
     "name": "stdout",
     "output_type": "stream",
     "text": [
      "Result: 87\n"
     ]
    }
   ],
   "source": [
    "str1 = input(\"Enter first string: \")\n",
    "str2 = input(\"Enter second string: \")\n",
    "\n",
    "mid = len(str1) // 2\n",
    "result = str1[:mid] + str2 + str1[mid:]\n",
    "print(\"Result:\", result)"
   ]
  },
  {
   "cell_type": "markdown",
   "id": "1a861a41",
   "metadata": {},
   "source": [
    "0.0.9 Problem 13:Given string contains a combination of the lower and upper case letters.\n",
    "Write a program to arrange the characters of a string so that all lowercase\n",
    "letters should come first.\n",
    "Given:\n",
    "str1 = PyNaTive\n",
    "Expected Output:\n",
    "yaivePNT"
   ]
  },
  {
   "cell_type": "code",
   "execution_count": 14,
   "id": "8e7f98cd",
   "metadata": {},
   "outputs": [
    {
     "name": "stdout",
     "output_type": "stream",
     "text": [
      "Output: yaivePNT\n"
     ]
    }
   ],
   "source": [
    "str1 = \"PyNaTive\"\n",
    "lowercase = ''.join([c for c in str1 if c.islower()])\n",
    "uppercase = ''.join([c for c in str1 if c.isupper()])\n",
    "result = lowercase + uppercase\n",
    "print(\"Output:\", result)"
   ]
  },
  {
   "cell_type": "markdown",
   "id": "791afc17",
   "metadata": {},
   "source": [
    "Problem 14:Take a alphanumeric string input and print the sum and average\n",
    "of the digits that appear in the string, ignoring all other characters."
   ]
  },
  {
   "cell_type": "code",
   "execution_count": 15,
   "id": "d3e6bbf6",
   "metadata": {},
   "outputs": [
    {
     "name": "stdout",
     "output_type": "stream",
     "text": [
      "Sum: 4\n",
      "Avg: 4.0\n"
     ]
    }
   ],
   "source": [
    "s = input(\"Enter alphanumeric string: \")\n",
    "digits = [int(c) for c in s if c.isdigit()]\n",
    "\n",
    "total = sum(digits)\n",
    "avg = total / len(digits) if digits else 0\n",
    "\n",
    "print(\"Sum:\", total)\n",
    "print(\"Avg:\", avg)"
   ]
  },
  {
   "cell_type": "markdown",
   "id": "8bfbb50b",
   "metadata": {},
   "source": [
    "Problem 15: Removal of all characters from a string except integers\n"
   ]
  },
  {
   "cell_type": "code",
   "execution_count": 16,
   "id": "3bb92bde",
   "metadata": {},
   "outputs": [
    {
     "name": "stdout",
     "output_type": "stream",
     "text": [
      "Output: 2510\n"
     ]
    }
   ],
   "source": [
    "str1 = 'I am 25 years and 10 months old'\n",
    "digits_only = ''.join([c for c in str1 if c.isdigit()])\n",
    "print(\"Output:\", digits_only)"
   ]
  },
  {
   "cell_type": "code",
   "execution_count": null,
   "id": "15b73aa5",
   "metadata": {},
   "outputs": [],
   "source": []
  }
 ],
 "metadata": {
  "kernelspec": {
   "display_name": "Python 3",
   "language": "python",
   "name": "python3"
  },
  "language_info": {
   "codemirror_mode": {
    "name": "ipython",
    "version": 3
   },
   "file_extension": ".py",
   "mimetype": "text/x-python",
   "name": "python",
   "nbconvert_exporter": "python",
   "pygments_lexer": "ipython3",
   "version": "3.11.9"
  }
 },
 "nbformat": 4,
 "nbformat_minor": 5
}
